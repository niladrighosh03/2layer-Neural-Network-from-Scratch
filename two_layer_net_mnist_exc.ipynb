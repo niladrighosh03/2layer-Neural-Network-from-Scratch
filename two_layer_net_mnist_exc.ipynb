{
 "cells": [
  {
   "cell_type": "markdown",
   "metadata": {},
   "source": [
    "# Implementing a simple two layers neural network\n",
    "In this exercise we will develop a two neural network with fully-connected layers to perform classification, and test it out on the MNIST dataset.\n"
   ]
  },
  {
   "cell_type": "code",
   "execution_count": 1,
   "metadata": {},
   "outputs": [],
   "source": [
    "\"\"\"\n",
    "-----------------------------------------------------------------------------\n",
    "A simple two layers neural network for handwritten digit classification (MNIST)\n",
    "-----------------------------------------------------------------------------\n",
    "AUTHOR: Soumitra Samanta (soumitra.samanta@gm.rkmvu.ac.in)\n",
    "-----------------------------------------------------------------------------\n",
    "\"\"\"\n",
    "\n",
    "import gzip\n",
    "import numpy as np\n",
    "import matplotlib.pyplot as plt\n",
    "import copy\n",
    "\n",
    "from first_nn_exc import *\n",
    "\n",
    "# for auto-reloading external modules\n",
    "# see http://stackoverflow.com/questions/1907993/autoreload-of-modules-in-ipython\n",
    "%load_ext autoreload\n",
    "%autoreload 2\n"
   ]
  },
  {
   "cell_type": "markdown",
   "metadata": {},
   "source": [
    "# Read MNIST data:\n",
    "You can download the data from [here](https://www.kaggle.com/datasets/hojjatk/mnist-dataset). There are many [way](https://stackoverflow.com/questions/40427435/extract-images-from-idx3-ubyte-file-or-gzip-via-python) you can read the MNIST data. Here is a [way](https://stackoverflow.com/a/62781370) to read all the information."
   ]
  },
  {
   "cell_type": "code",
   "execution_count": 3,
   "metadata": {},
   "outputs": [
    {
     "name": "stdout",
     "output_type": "stream",
     "text": [
      "Train data (X) size: (60000, 28, 28), and labels (Y) size: (60000,)\n",
      "Test data (X) size: (10000, 28, 28), and labels (Y) size: (10000,)\n"
     ]
    },
    {
     "data": {
      "image/png": "[encoded data removed]",
      "text/plain": [
       "<Figure size 640x480 with 1 Axes>"
      ]
     },
     "metadata": {},
     "output_type": "display_data"
    }
   ],
   "source": [
    "def read_images(filename):\n",
    "    \"\"\"Read MNIST images\"\"\"\n",
    "    \n",
    "    with gzip.open(filename, 'r') as f:\n",
    "        # first 4 bytes is a magic number\n",
    "        magic_number = int.from_bytes(f.read(4), 'big')\n",
    "        # second 4 bytes is the number of images\n",
    "        image_count = int.from_bytes(f.read(4), 'big')\n",
    "        # third 4 bytes is the row count\n",
    "        row_count = int.from_bytes(f.read(4), 'big')\n",
    "        # fourth 4 bytes is the column count\n",
    "        column_count = int.from_bytes(f.read(4), 'big')\n",
    "        # rest is the image pixel data, each pixel is stored as an unsigned byte\n",
    "        # pixel values are 0 to 255\n",
    "        image_data = f.read()\n",
    "        images = np.frombuffer(image_data, dtype=np.uint8).reshape((image_count, row_count, column_count))\n",
    "        \n",
    "    return images\n",
    "\n",
    "def read_labels(filename):\n",
    "    \"\"\"Read MNIST labels\"\"\"\n",
    "    \n",
    "    with gzip.open(filename, 'r') as f:\n",
    "        # first 4 bytes is a magic number\n",
    "        magic_number = int.from_bytes(f.read(4), 'big')\n",
    "        # second 4 bytes is the number of labels\n",
    "        label_count = int.from_bytes(f.read(4), 'big')\n",
    "        # rest is the label data, each label is stored as unsigned byte\n",
    "        # label values are 0 to 9\n",
    "        label_data = f.read()\n",
    "        labels = np.frombuffer(label_data, dtype=np.uint8)\n",
    "        \n",
    "    return labels\n",
    "\n",
    "\n",
    "dataset_path = '/Users/soumitra/Library/CloudStorage/OneDrive-Personal/Documents/SS_PERSONAL/SS_TEACHING/RKMVERI/data_experiment/mnist/'\n",
    "\n",
    "train_image_filename = ''.join([dataset_path, 'train-images-idx3-ubyte.gz'])\n",
    "train_label_filename = ''.join([dataset_path, 'train-labels-idx1-ubyte.gz'])\n",
    "\n",
    "test_image_filename = ''.join([dataset_path, 't10k-images-idx3-ubyte.gz'])\n",
    "test_label_filename = ''.join([dataset_path, 't10k-labels-idx1-ubyte.gz'])\n",
    "\n",
    "train_images = read_images(train_image_filename)\n",
    "train_labels = read_labels(train_label_filename)\n",
    "\n",
    "print('Train data (X) size: {}, and labels (Y) size: {}' .format(train_images.shape, train_labels.shape))\n",
    "\n",
    "test_images = read_images(test_image_filename)\n",
    "test_labels = read_labels(test_label_filename)\n",
    "\n",
    "print('Test data (X) size: {}, and labels (Y) size: {}' .format(test_images.shape, test_labels.shape))\n",
    "\n",
    "\n",
    "\n",
    "rand_ids = np.random.choice(train_images.shape[0])\n",
    "plt.imshow(train_images[rand_ids, :, :], cmap='gray')\n",
    "plt.title('class-'+str(train_labels[rand_ids]))\n",
    "plt.show()\n",
    "\n"
   ]
  },
  {
   "cell_type": "markdown",
   "metadata": {},
   "source": [
    "# CROSS-CHECK: Create a validation data from training data (10%) and transform the data in $\\mathbf{R}^d$."
   ]
  },
  {
   "cell_type": "code",
   "execution_count": 4,
   "metadata": {},
   "outputs": [
    {
     "name": "stdout",
     "output_type": "stream",
     "text": [
      "Val data (X) size: (5999, 28, 28), and labels (Y) size: (5999,)\n",
      "After reshape\n",
      "\n",
      "Train data (X) size: (59990, 784), and labels (Y) size: (59990,)\n",
      "Val data (X) size: (5999, 784), and labels (Y) size: (5999,)\n",
      "Test data (X) size: (10000, 784), and labels (Y) size: (10000,)\n"
     ]
    }
   ],
   "source": [
    "val_data_ration = 0.1\n",
    "class_ids = list(set(train_labels))\n",
    "val_ids = []\n",
    "for cl in class_ids:\n",
    "    temp_val_index = np.where(train_labels==cl)\n",
    "    val_ids.extend(list(np.random.permutation(temp_val_index[0])[:round(temp_val_index[0].shape[0]*val_data_ration)]))\n",
    "# print(val_ids)     \n",
    "val_images = train_images[val_ids, :, :]  \n",
    "val_labels = train_labels[val_ids]  \n",
    "print('Val data (X) size: {}, and labels (Y) size: {}' .format(val_images.shape, val_labels.shape))\n",
    "\n",
    "train_ids = [i for i in range(train_labels.shape[0]) if i not in val_labels]\n",
    "revised_train_images = train_images[train_ids, :, :]  \n",
    "revised_train_labels = train_labels[train_ids]  \n",
    " \n",
    "X_train = revised_train_images.reshape(revised_train_images.shape[0], -1)\n",
    "Y_train = revised_train_labels.reshape(-1)\n",
    "X_val = val_images.reshape(val_images.shape[0], -1)\n",
    "Y_val = val_labels.reshape(-1)\n",
    "X_test = test_images.reshape(test_images.shape[0], -1)\n",
    "Y_test = test_labels.reshape(-1)\n",
    "\n",
    "print('After reshape\\n')\n",
    "print('Train data (X) size: {}, and labels (Y) size: {}' .format(X_train.shape, Y_train.shape))\n",
    "print('Val data (X) size: {}, and labels (Y) size: {}' .format(X_val.shape, Y_val.shape))\n",
    "print('Test data (X) size: {}, and labels (Y) size: {}' .format(X_test.shape, Y_test.shape))\n",
    "\n",
    "\n",
    "\n",
    "                        \n",
    "                        "
   ]
  },
  {
   "cell_type": "markdown",
   "metadata": {},
   "source": [
    "# Train a network\n",
    "To train our network we will use Stochastic Gradient Decent (SGD)."
   ]
  },
  {
   "cell_type": "code",
   "execution_count": 6,
   "metadata": {},
   "outputs": [],
   "source": [
    "data_dimension = X_train.shape[1]\n",
    "num_hidden_nodes = 50\n",
    "num_classes = 10\n",
    "net = FirstNN(data_dimension, num_hidden_nodes, num_classes)\n",
    "\n",
    "# Train the network\n",
    "stats = net.train(X_train, Y_train, X_val, Y_val, \n",
    "                  num_iters=10000,\n",
    "                  num_epoch=30,\n",
    "                  batch_size=200, \n",
    "                  learning_rate=1e-2, \n",
    "                  verbose=True\n",
    "                 )\n",
    "\n",
    "\n",
    "\n"
   ]
  },
  {
   "cell_type": "code",
   "execution_count": 1,
   "metadata": {},
   "outputs": [],
   "source": [
    "# Predict on the train set\n",
    "Y_train_pred = net.predict(X_train, best_param=True)\n",
    "train_acc = 100*(Y_train_pred == Y_train).mean()\n",
    "print('Train accuracy: {:.2f}' .format(train_acc))\n",
    "\n",
    "# Predict on the validation set\n",
    "Y_val_pred = net.predict(X_val, best_param=True)\n",
    "val_acc = 100*(Y_val_pred == Y_val).mean()\n",
    "print('Validation accuracy: {:.2f}' .format(val_acc))\n",
    "\n",
    "# Predict on the test set\n",
    "Y_test_pred = net.predict(X_test, best_param=True)\n",
    "test_acc = 100*(Y_test_pred == Y_test).mean()\n",
    "print('Test accuracy: {:.2f}' .format(test_acc))"
   ]
  },
  {
   "cell_type": "markdown",
   "metadata": {},
   "source": [
    "# Plot the loss."
   ]
  },
  {
   "cell_type": "code",
   "execution_count": 2,
   "metadata": {},
   "outputs": [],
   "source": [
    "# Plot the loss function and train / validation accuracies\n",
    "plt.subplot(3, 1, 1)\n",
    "plt.plot(stats['loss_history_batch'])\n",
    "plt.title('Loss history batch wise')\n",
    "plt.xlabel('Iteration')\n",
    "plt.ylabel('Loss')\n",
    "plt.grid(linestyle='--')\n",
    "\n",
    "plt.subplot(3, 1, 2)\n",
    "plt.plot(stats['loss_history_epoch'])\n",
    "plt.title('Loss history epoch wise')\n",
    "plt.xlabel('Iteration')\n",
    "plt.ylabel('Loss')\n",
    "plt.grid(linestyle='--')\n",
    "\n",
    "plt.subplot(3, 1, 3)\n",
    "plt.plot(stats['train_acc_history'], label='train')\n",
    "plt.plot(stats['val_acc_history'], label='val')\n",
    "plt.title('Classification accuracy history')\n",
    "plt.xlabel('Epoch')\n",
    "plt.ylabel('Clasification accuracy')\n",
    "plt.grid(linestyle='--')\n",
    "plt.legend()\n",
    "plt.show()"
   ]
  },
  {
   "cell_type": "markdown",
   "metadata": {},
   "source": [
    "# TODO: Tune your hyperparameters:\n",
    "    - Learning rate:\n",
    "    - Number of nodes in hidden layer:\n"
   ]
  },
  {
   "cell_type": "code",
   "execution_count": null,
   "metadata": {},
   "outputs": [],
   "source": [
    "best_net = None # store the best model into this \n",
    "\n",
    "#################################################################################\n",
    "# TODO: Tune hyperparameters using the validation set. Store your best trained  #\n",
    "# model in best_net.                                                            #\n",
    "#################################################################################\n",
    "results = {}\n",
    "best_val = 0\n",
    "best_net = None\n",
    "learning_rates = [1e-3, 5e-3, 7e-3, 1e-2, 5e-2, 1e-1]\n",
    "num_hidden_nodes = [30, 50, 60, 70, 100]\n",
    "num_classes = 10\n",
    "num_iters = 5000\n",
    "num_epoch = 30\n",
    "batch_size = 256\n",
    "# Perform hyperparameter tuning\n",
    "for lr in learning_rates:\n",
    "    for num_hidden_nodes in num_hidden_nodes_list:\n",
    "        print(f\"Training model with learning rate: {lr} and hidden layer size: {num_hidden_nodes}\")\n",
    "\n",
    "        # Initialize network\n",
    "        net = FirstNN(input_dims=X_train.shape[1], num_nodes_lr1=num_hidden_nodes, num_classes=num_classes)\n",
    "\n",
    "        # Train the model\n",
    "        stats = net.train(X_train, Y_train, X_val, Y_val, \n",
    "                          num_iters=num_iters,\n",
    "                          num_epoch=num_epoch,\n",
    "                          batch_size=batch_size, \n",
    "                          learning_rate=lr, \n",
    "                          verbose=False)\n",
    "\n",
    "        # Compute validation accuracy\n",
    "        Y_val_pred = net.predict(X_val, best_param=True)\n",
    "        val_acc = 100 * np.mean(Y_val_pred == Y_val)\n",
    "\n",
    "        # Store results\n",
    "        results[(num_hidden_nodes, lr)] = val_acc\n",
    "\n",
    "        # Update best model if current model is better\n",
    "        if val_acc > best_val:\n",
    "            best_val = val_acc\n",
    "            best_net = copy.deepcopy(net)  # Store the best model\n",
    "\n",
    "\n",
    "# Print best results.\n",
    "print('Best validation accuracy achieved during cross-validation: {:.2f} for #hdnn: {}, lr: {}' .format(best_val, best_net.best_params['W1'].shape[1], best_net.learning_rate))\n",
    "#################################################################################\n",
    "#                               END OF YOUR CODE                                #\n",
    "#################################################################################"
   ]
  },
  {
   "cell_type": "markdown",
   "metadata": {},
   "source": [
    "# Test on best model"
   ]
  },
  {
   "cell_type": "code",
   "execution_count": 4,
   "metadata": {},
   "outputs": [],
   "source": [
    "# Predict on the train set\n",
    "Y_train_pred = best_net.predict(X_train, best_param=True)\n",
    "train_acc = 100*(Y_train_pred == Y_train).mean()\n",
    "print('Train accuracy: {:.2f}' .format(train_acc))\n",
    "\n",
    "# Predict on the validation set\n",
    "Y_val_pred = best_net.predict(X_val, best_param=True)\n",
    "val_acc = 100*(Y_val_pred == Y_val).mean()\n",
    "print('Validation accuracy: {:.2f}' .format(val_acc))\n",
    "\n",
    "# Predict on the test set\n",
    "Y_test_pred = best_net.predict(X_test, best_param=True)\n",
    "test_acc = 100*(Y_test_pred == Y_test).mean()\n",
    "print('Test accuracy: {:.2f}' .format(test_acc))"
   ]
  },
  {
   "cell_type": "code",
   "execution_count": null,
   "metadata": {},
   "outputs": [],
   "source": []
  }
 ],
 "metadata": {
  "kernelspec": {
   "display_name": "condapy310",
   "language": "python",
   "name": "condapy310"
  },
  "language_info": {
   "codemirror_mode": {
    "name": "ipython",
    "version": 3
   },
   "file_extension": ".py",
   "mimetype": "text/x-python",
   "name": "python",
   "nbconvert_exporter": "python",
   "pygments_lexer": "ipython3",
   "version": "3.10.13"
  }
 },
 "nbformat": 4,
 "nbformat_minor": 1
}
